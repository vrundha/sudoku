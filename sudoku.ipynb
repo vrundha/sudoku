{
 "cells": [
  {
   "cell_type": "code",
   "execution_count": 1,
   "metadata": {},
   "outputs": [],
   "source": [
    "from sudoku import Sudoku, Solver"
   ]
  },
  {
   "cell_type": "code",
   "execution_count": 2,
   "metadata": {},
   "outputs": [],
   "source": [
    "sud = Sudoku()"
   ]
  },
  {
   "cell_type": "markdown",
   "metadata": {},
   "source": [
    "# Solving generated sudoku\n",
    "First, let us generate a random sudoku."
   ]
  },
  {
   "cell_type": "markdown",
   "metadata": {},
   "source": [
    "The number of elements to be filled can be passed as a parameter. \n",
    "Let us visualse the generated sudoku."
   ]
  },
  {
   "cell_type": "code",
   "execution_count": 3,
   "metadata": {},
   "outputs": [
    {
     "name": "stdout",
     "output_type": "stream",
     "text": [
      "[5, 6, 0, 0, 0, 0, 0, 0, 0]\n",
      "[0, 0, 4, 0, 3, 0, 0, 0, 0]\n",
      "[0, 0, 0, 0, 5, 0, 8, 0, 4]\n",
      "[4, 9, 0, 0, 7, 0, 0, 0, 0]\n",
      "[3, 0, 0, 0, 0, 5, 0, 0, 0]\n",
      "[1, 0, 0, 0, 0, 0, 0, 7, 0]\n",
      "[0, 4, 0, 5, 0, 0, 9, 0, 0]\n",
      "[0, 5, 0, 0, 0, 0, 0, 0, 0]\n",
      "[0, 0, 1, 4, 0, 2, 3, 0, 0]\n"
     ]
    }
   ],
   "source": [
    "sud.generate(22)\n",
    "sud.visualize()"
   ]
  },
  {
   "cell_type": "markdown",
   "metadata": {},
   "source": [
    "Using Solver, let us solve this puzzle. A generated sudoku is always solvable."
   ]
  },
  {
   "cell_type": "code",
   "execution_count": 4,
   "metadata": {
    "scrolled": true
   },
   "outputs": [
    {
     "name": "stdout",
     "output_type": "stream",
     "text": [
      "[5, 6, 2, 1, 4, 8, 7, 3, 9]\n",
      "[8, 1, 4, 7, 3, 9, 2, 5, 6]\n",
      "[7, 3, 9, 2, 5, 6, 8, 1, 4]\n",
      "[4, 9, 5, 3, 7, 1, 6, 2, 8]\n",
      "[3, 2, 7, 6, 8, 5, 4, 9, 1]\n",
      "[1, 8, 6, 9, 2, 4, 5, 7, 3]\n",
      "[2, 4, 8, 5, 1, 3, 9, 6, 7]\n",
      "[6, 5, 3, 8, 9, 7, 1, 4, 2]\n",
      "[9, 7, 1, 4, 6, 2, 3, 8, 5]\n"
     ]
    }
   ],
   "source": [
    "solv = Solver(sud)\n",
    "solvable, solution = solv.solve(sud)\n",
    "sud.visualize()"
   ]
  },
  {
   "cell_type": "markdown",
   "metadata": {},
   "source": [
    "Let us now give our own incorrect sudoku puzzle"
   ]
  },
  {
   "cell_type": "code",
   "execution_count": 5,
   "metadata": {},
   "outputs": [],
   "source": [
    "sud.puzzle = [\n",
    " [7, 0, 0, 0, 4, 3, 0, 8, 0],\n",
    " [0, 0, 0, 0, 0, 0, 5, 0, 4],\n",
    " [0, 0, 0, 0, 0, 0, 2, 0, 3],\n",
    " [0, 3, 0, 6, 8, 0, 9, 0, 0],\n",
    " [0, 0, 0, 0, 7, 0, 0, 0, 8],\n",
    " [0, 0, 0, 0, 0, 0, 0, 1, 0],\n",
    " [0, 0, 0, 0, 0, 0, 0, 9, 0],\n",
    " [0, 0, 0, 0, 0, 0, 0, 7, 0],\n",
    " [0, 0, 0, 7, 0, 3, 8, 0, 2]]"
   ]
  },
  {
   "cell_type": "markdown",
   "metadata": {},
   "source": [
    "Using Solver, let us solve this puzzle. "
   ]
  },
  {
   "cell_type": "code",
   "execution_count": 6,
   "metadata": {},
   "outputs": [],
   "source": [
    "solvable, solution = solv.solve(sud)\n"
   ]
  },
  {
   "cell_type": "markdown",
   "metadata": {},
   "source": [
    "Check if the sudoku is solvable or not"
   ]
  },
  {
   "cell_type": "code",
   "execution_count": 7,
   "metadata": {},
   "outputs": [
    {
     "name": "stdout",
     "output_type": "stream",
     "text": [
      "Sudoku is not solvable\n"
     ]
    }
   ],
   "source": [
    "if solvable:\n",
    "    sud.visualize()\n",
    "else:\n",
    "    print(\"Sudoku is not solvable\")"
   ]
  }
 ],
 "metadata": {
  "kernelspec": {
   "display_name": "Python 3",
   "language": "python",
   "name": "python3"
  },
  "language_info": {
   "codemirror_mode": {
    "name": "ipython",
    "version": 3
   },
   "file_extension": ".py",
   "mimetype": "text/x-python",
   "name": "python",
   "nbconvert_exporter": "python",
   "pygments_lexer": "ipython3",
   "version": "3.8.5"
  }
 },
 "nbformat": 4,
 "nbformat_minor": 2
}
