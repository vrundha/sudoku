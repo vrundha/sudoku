{
 "cells": [
  {
   "cell_type": "code",
   "execution_count": 41,
   "metadata": {},
   "outputs": [],
   "source": [
    "from ipysheet import sheet, cell, row, column, cell_range, to_array"
   ]
  },
  {
   "cell_type": "code",
   "execution_count": 64,
   "metadata": {},
   "outputs": [],
   "source": [
    "s=sheet(rows=9, columns=9, column_headers=False, row_headers=False, column_width=[20]*9, stretch_headers=\"no\")\n",
    "for i in range(9):\n",
    "    for j in range(9):\n",
    "        cell(i, j, '0')"
   ]
  },
  {
   "cell_type": "code",
   "execution_count": 65,
   "metadata": {},
   "outputs": [
    {
     "data": {
      "application/vnd.jupyter.widget-view+json": {
       "model_id": "49bca8efbf9549419d57eb848757cfd3",
       "version_major": 2,
       "version_minor": 0
      },
      "text/plain": [
       "Sheet(cells=(Cell(column_end=0, column_start=0, row_end=0, row_start=0, type='text', value='0'), Cell(column_e…"
      ]
     },
     "metadata": {},
     "output_type": "display_data"
    }
   ],
   "source": [
    "s"
   ]
  },
  {
   "cell_type": "code",
   "execution_count": 68,
   "metadata": {},
   "outputs": [
    {
     "data": {
      "text/plain": [
       "array([['0', '1', '0', '0', '0', '0', '0', '0', '0'],\n",
       "       ['0', '0', '0', '0', '0', '0', '0', '0', '0'],\n",
       "       ['0', '0', '0', '0', '0', '0', '0', '0', '0'],\n",
       "       ['0', '0', '0', '0', '0', '0', '0', '0', '0'],\n",
       "       ['0', '0', '0', '0', '0', '0', '0', '0', '0'],\n",
       "       ['0', '0', '0', '0', '0', '0', '0', '0', '0'],\n",
       "       ['0', '0', '0', '0', '0', '0', '5', '0', '0'],\n",
       "       ['0', '0', '0', '0', '0', '0', '0', '0', '0'],\n",
       "       ['0', '0', '0', '0', '0', '0', '0', '0', '0']], dtype='<U1')"
      ]
     },
     "execution_count": 68,
     "metadata": {},
     "output_type": "execute_result"
    }
   ],
   "source": [
    "to_array(s)"
   ]
  },
  {
   "cell_type": "code",
   "execution_count": null,
   "metadata": {},
   "outputs": [],
   "source": []
  }
 ],
 "metadata": {
  "kernelspec": {
   "display_name": "Python 3",
   "language": "python",
   "name": "python3"
  },
  "language_info": {
   "codemirror_mode": {
    "name": "ipython",
    "version": 3
   },
   "file_extension": ".py",
   "mimetype": "text/x-python",
   "name": "python",
   "nbconvert_exporter": "python",
   "pygments_lexer": "ipython3",
   "version": "3.7.5"
  }
 },
 "nbformat": 4,
 "nbformat_minor": 2
}
