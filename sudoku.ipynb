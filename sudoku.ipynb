{
 "cells": [
  {
   "cell_type": "code",
   "execution_count": 2,
   "metadata": {},
   "outputs": [],
   "source": [
    "from gym_sudoku.envs.sudoku import Sudoku\n",
    "from gym_sudoku.envs.solver import Solver"
   ]
  },
  {
   "cell_type": "code",
   "execution_count": 3,
   "metadata": {},
   "outputs": [],
   "source": [
    "sud = Sudoku()"
   ]
  },
  {
   "cell_type": "markdown",
   "metadata": {},
   "source": [
    "# Solving generated sudoku\n",
    "First, let us generate a random sudoku."
   ]
  },
  {
   "cell_type": "markdown",
   "metadata": {},
   "source": [
    "The number of elements to be filled can be passed as a parameter. \n",
    "Let us visualse the generated sudoku."
   ]
  },
  {
   "cell_type": "code",
   "execution_count": 4,
   "metadata": {},
   "outputs": [
    {
     "name": "stdout",
     "output_type": "stream",
     "text": [
      "[[5 0 0 0 0 0 0 8 0]\n",
      " [0 0 0 0 0 0 7 0 0]\n",
      " [1 9 8 0 3 0 0 0 0]\n",
      " [0 3 0 0 4 8 0 5 6]\n",
      " [0 0 0 3 0 0 0 0 2]\n",
      " [0 0 0 0 2 5 0 0 0]\n",
      " [0 0 0 0 0 0 0 9 0]\n",
      " [0 0 3 0 0 0 0 4 0]\n",
      " [0 0 2 0 0 9 0 1 0]]\n"
     ]
    }
   ],
   "source": [
    "sud.generate(22)\n",
    "sud.visualize()"
   ]
  },
  {
   "cell_type": "markdown",
   "metadata": {},
   "source": [
    "Using Solver, let us solve this puzzle. A generated sudoku is always solvable."
   ]
  },
  {
   "cell_type": "code",
   "execution_count": 5,
   "metadata": {
    "scrolled": true
   },
   "outputs": [
    {
     "name": "stdout",
     "output_type": "stream",
     "text": [
      "[[5 2 7 6 9 4 1 8 3]\n",
      " [3 4 6 5 8 1 7 2 9]\n",
      " [1 9 8 2 3 7 5 6 4]\n",
      " [2 3 1 7 4 8 9 5 6]\n",
      " [8 5 9 3 1 6 4 7 2]\n",
      " [6 7 4 9 2 5 8 3 1]\n",
      " [4 1 5 8 6 3 2 9 7]\n",
      " [9 8 3 1 7 2 6 4 5]\n",
      " [7 6 2 4 5 9 3 1 8]]\n"
     ]
    }
   ],
   "source": [
    "solv = Solver(sud)\n",
    "solvable, solution = solv.solve(sud)\n",
    "sud.visualize()"
   ]
  },
  {
   "cell_type": "code",
   "execution_count": 6,
   "metadata": {},
   "outputs": [
    {
     "data": {
      "text/plain": [
       "True"
      ]
     },
     "execution_count": 6,
     "metadata": {},
     "output_type": "execute_result"
    }
   ],
   "source": [
    "solvable"
   ]
  },
  {
   "cell_type": "markdown",
   "metadata": {},
   "source": [
    "Let us now give our own incorrect sudoku puzzle"
   ]
  },
  {
   "cell_type": "code",
   "execution_count": 5,
   "metadata": {},
   "outputs": [],
   "source": [
    "sud.puzzle = [\n",
    " [7, 0, 0, 0, 4, 3, 0, 8, 0],\n",
    " [0, 0, 0, 0, 0, 0, 5, 0, 4],\n",
    " [0, 0, 0, 0, 0, 0, 2, 0, 3],\n",
    " [0, 3, 0, 6, 8, 0, 9, 0, 0],\n",
    " [0, 0, 0, 0, 7, 0, 0, 0, 8],\n",
    " [0, 0, 0, 0, 0, 0, 0, 1, 0],\n",
    " [0, 0, 0, 0, 0, 0, 0, 9, 0],\n",
    " [0, 0, 0, 0, 0, 0, 0, 7, 0],\n",
    " [0, 0, 0, 7, 0, 3, 8, 0, 2]]"
   ]
  },
  {
   "cell_type": "markdown",
   "metadata": {},
   "source": [
    "Using Solver, let us solve this puzzle. "
   ]
  },
  {
   "cell_type": "code",
   "execution_count": 6,
   "metadata": {},
   "outputs": [],
   "source": [
    "solvable, solution = solv.solve(sud)\n"
   ]
  },
  {
   "cell_type": "markdown",
   "metadata": {},
   "source": [
    "Check if the sudoku is solvable or not"
   ]
  },
  {
   "cell_type": "code",
   "execution_count": 7,
   "metadata": {},
   "outputs": [
    {
     "name": "stdout",
     "output_type": "stream",
     "text": [
      "Sudoku is not solvable\n"
     ]
    }
   ],
   "source": [
    "if solvable:\n",
    "    sud.visualize()\n",
    "else:\n",
    "    print(\"Sudoku is not solvable\")"
   ]
  },
  {
   "cell_type": "markdown",
   "metadata": {},
   "source": [
    "# Usage for SudokuEnv"
   ]
  },
  {
   "cell_type": "code",
   "execution_count": 1,
   "metadata": {},
   "outputs": [
    {
     "name": "stderr",
     "output_type": "stream",
     "text": [
      "/home/vrundha/.local/lib/python3.8/site-packages/gym/logger.py:30: UserWarning: \u001b[33mWARN: Box bound precision lowered by casting to float32\u001b[0m\n",
      "  warnings.warn(colorize('%s: %s'%('WARN', msg % args), 'yellow'))\n"
     ]
    }
   ],
   "source": [
    "from gym_sudoku.envs.sudoku_env import SudokuEnv\n",
    "\n",
    "sudoku = SudokuEnv()"
   ]
  },
  {
   "cell_type": "code",
   "execution_count": 2,
   "metadata": {},
   "outputs": [
    {
     "data": {
      "text/plain": [
       "Discrete(13)"
      ]
     },
     "execution_count": 2,
     "metadata": {},
     "output_type": "execute_result"
    }
   ],
   "source": [
    "sudoku.action_space"
   ]
  },
  {
   "cell_type": "code",
   "execution_count": 3,
   "metadata": {},
   "outputs": [
    {
     "data": {
      "text/plain": [
       "Box(0.0, 9.0, (83,), float32)"
      ]
     },
     "execution_count": 3,
     "metadata": {},
     "output_type": "execute_result"
    }
   ],
   "source": [
    "sudoku.observation_space"
   ]
  },
  {
   "cell_type": "code",
   "execution_count": null,
   "metadata": {},
   "outputs": [],
   "source": []
  }
 ],
 "metadata": {
  "kernelspec": {
   "display_name": "Python 3",
   "language": "python",
   "name": "python3"
  },
  "language_info": {
   "codemirror_mode": {
    "name": "ipython",
    "version": 3
   },
   "file_extension": ".py",
   "mimetype": "text/x-python",
   "name": "python",
   "nbconvert_exporter": "python",
   "pygments_lexer": "ipython3",
   "version": "3.8.5"
  }
 },
 "nbformat": 4,
 "nbformat_minor": 2
}
