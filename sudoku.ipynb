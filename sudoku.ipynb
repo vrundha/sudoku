{
 "cells": [
  {
   "cell_type": "code",
   "execution_count": 1,
   "metadata": {},
   "outputs": [],
   "source": [
    "from ipysheet import sheet, cell, row, column, cell_range, to_array"
   ]
  },
  {
   "cell_type": "code",
   "execution_count": 2,
   "metadata": {},
   "outputs": [],
   "source": [
    "s=sheet(rows=9, columns=9, column_headers=False, row_headers=False, column_width=[20]*9, stretch_headers=\"no\")\n",
    "for i in range(9):\n",
    "    for j in range(9):\n",
    "        cell(i, j, '0')"
   ]
  },
  {
   "cell_type": "code",
   "execution_count": 3,
   "metadata": {},
   "outputs": [
    {
     "data": {
      "application/vnd.jupyter.widget-view+json": {
       "model_id": "a23245c21e2f4e43803dc2457ffba9b3",
       "version_major": 2,
       "version_minor": 0
      },
      "text/plain": [
       "Sheet(cells=(Cell(column_end=0, column_start=0, row_end=0, row_start=0, type='text', value='0'), Cell(column_e…"
      ]
     },
     "metadata": {},
     "output_type": "display_data"
    }
   ],
   "source": [
    "s"
   ]
  },
  {
   "cell_type": "code",
   "execution_count": 4,
   "metadata": {},
   "outputs": [
    {
     "data": {
      "text/plain": [
       "array([['0', '0', '0', '0', '0', '0', '0', '0', '0'],\n",
       "       ['0', '0', '0', '0', '0', '0', '0', '0', '0'],\n",
       "       ['0', '0', '0', '0', '0', '0', '0', '0', '0'],\n",
       "       ['0', '0', '0', '0', '0', '0', '0', '0', '0'],\n",
       "       ['0', '0', '0', '0', '0', '0', '0', '0', '0'],\n",
       "       ['0', '0', '0', '0', '0', '0', '0', '0', '0'],\n",
       "       ['0', '0', '0', '0', '0', '0', '0', '0', '0'],\n",
       "       ['0', '0', '0', '0', '0', '0', '0', '0', '0'],\n",
       "       ['0', '0', '0', '0', '0', '0', '0', '0', '0']], dtype='<U1')"
      ]
     },
     "execution_count": 4,
     "metadata": {},
     "output_type": "execute_result"
    }
   ],
   "source": [
    "to_array(s)"
   ]
  },
  {
   "cell_type": "code",
   "execution_count": 5,
   "metadata": {},
   "outputs": [],
   "source": [
    "from sudoku import Sudoku, Solver"
   ]
  },
  {
   "cell_type": "code",
   "execution_count": 6,
   "metadata": {},
   "outputs": [],
   "source": [
    "sud = Sudoku()"
   ]
  },
  {
   "cell_type": "markdown",
   "metadata": {},
   "source": [
    "# Solving generated sudoku\n",
    "First, let us generate a random sudoku."
   ]
  },
  {
   "cell_type": "markdown",
   "metadata": {},
   "source": [
    "The number of elements to be filled can be passed as a parameter. \n",
    "Let us visualse the generated sudoku."
   ]
  },
  {
   "cell_type": "code",
   "execution_count": 7,
   "metadata": {},
   "outputs": [
    {
     "name": "stdout",
     "output_type": "stream",
     "text": [
      "[0, 2, 7, 0, 0, 0, 0, 4, 0]\n",
      "[3, 6, 0, 0, 0, 2, 0, 0, 1]\n",
      "[0, 0, 5, 0, 0, 0, 0, 8, 0]\n",
      "[4, 0, 0, 7, 0, 0, 6, 0, 0]\n",
      "[0, 8, 0, 0, 9, 6, 0, 0, 0]\n",
      "[5, 7, 0, 0, 3, 0, 0, 0, 0]\n",
      "[0, 4, 9, 0, 0, 0, 0, 0, 0]\n",
      "[0, 5, 0, 0, 0, 0, 0, 0, 0]\n",
      "[0, 0, 0, 0, 8, 0, 0, 0, 0]\n"
     ]
    }
   ],
   "source": [
    "sud.generate(22)\n",
    "sud.visualize()"
   ]
  },
  {
   "cell_type": "markdown",
   "metadata": {},
   "source": [
    "Using Solver, let us solve this puzzle. A generated sudoku is always solvable."
   ]
  },
  {
   "cell_type": "code",
   "execution_count": 8,
   "metadata": {
    "scrolled": true
   },
   "outputs": [
    {
     "name": "stdout",
     "output_type": "stream",
     "text": [
      "[8, 2, 7, 1, 5, 9, 3, 4, 6]\n",
      "[3, 6, 4, 8, 7, 2, 5, 9, 1]\n",
      "[9, 1, 5, 3, 6, 4, 2, 8, 7]\n",
      "[4, 9, 1, 7, 2, 8, 6, 3, 5]\n",
      "[2, 8, 3, 5, 9, 6, 1, 7, 4]\n",
      "[5, 7, 6, 4, 3, 1, 9, 2, 8]\n",
      "[6, 4, 9, 2, 1, 7, 8, 5, 3]\n",
      "[1, 5, 8, 9, 4, 3, 7, 6, 2]\n",
      "[7, 3, 2, 6, 8, 5, 4, 1, 9]\n"
     ]
    }
   ],
   "source": [
    "solv = Solver(sud)\n",
    "solvable, solution = solv.solve(sud)\n",
    "sud.visualize()"
   ]
  },
  {
   "cell_type": "markdown",
   "metadata": {},
   "source": [
    "Let us now give our own incorrect sudoku puzzle"
   ]
  },
  {
   "cell_type": "code",
   "execution_count": 9,
   "metadata": {},
   "outputs": [],
   "source": [
    "sud.puzzle = [\n",
    " [7, 0, 0, 0, 4, 3, 0, 8, 0],\n",
    " [0, 0, 0, 0, 0, 0, 5, 0, 4],\n",
    " [0, 0, 0, 0, 0, 0, 2, 0, 3],\n",
    " [0, 3, 0, 6, 8, 0, 9, 0, 0],\n",
    " [0, 0, 0, 0, 7, 0, 0, 0, 8],\n",
    " [0, 0, 0, 0, 0, 0, 0, 1, 0],\n",
    " [0, 0, 0, 0, 0, 0, 0, 9, 0],\n",
    " [0, 0, 0, 0, 0, 0, 0, 7, 0],\n",
    " [0, 0, 0, 7, 0, 3, 8, 0, 2]]"
   ]
  },
  {
   "cell_type": "markdown",
   "metadata": {},
   "source": [
    "Using Solver, let us solve this puzzle. "
   ]
  },
  {
   "cell_type": "code",
   "execution_count": 10,
   "metadata": {},
   "outputs": [],
   "source": [
    "solvable, solution = solv.solve(sud)\n"
   ]
  },
  {
   "cell_type": "markdown",
   "metadata": {},
   "source": [
    "Check if the sudoku is solvable or not"
   ]
  },
  {
   "cell_type": "code",
   "execution_count": 11,
   "metadata": {},
   "outputs": [
    {
     "name": "stdout",
     "output_type": "stream",
     "text": [
      "Sudoku is not solvable\n"
     ]
    }
   ],
   "source": [
    "if solvable:\n",
    "    sud.visualize()\n",
    "else:\n",
    "    print(\"Sudoku is not solvable\")"
   ]
  },
  {
   "cell_type": "code",
   "execution_count": null,
   "metadata": {},
   "outputs": [],
   "source": []
  }
 ],
 "metadata": {
  "kernelspec": {
   "display_name": "Python 3",
   "language": "python",
   "name": "python3"
  },
  "language_info": {
   "codemirror_mode": {
    "name": "ipython",
    "version": 3
   },
   "file_extension": ".py",
   "mimetype": "text/x-python",
   "name": "python",
   "nbconvert_exporter": "python",
   "pygments_lexer": "ipython3",
   "version": "3.7.5"
  }
 },
 "nbformat": 4,
 "nbformat_minor": 2
}
